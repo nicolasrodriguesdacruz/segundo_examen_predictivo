{
  "cells": [
    {
      "cell_type": "markdown",
      "metadata": {
        "id": "D1ELfkQ9jutQ"
      },
      "source": [
        "Lectura de la base"
      ]
    },
    {
      "cell_type": "code",
      "execution_count": 1,
      "metadata": {
        "id": "C_qwl3fFciGG",
        "colab": {
          "base_uri": "https://localhost:8080/"
        },
        "outputId": "197c4f0d-824c-49b1-9cb7-4f449532df45"
      },
      "outputs": [
        {
          "output_type": "stream",
          "name": "stdout",
          "text": [
            "mv: cannot stat 'kaggle.json': No such file or directory\n"
          ]
        }
      ],
      "source": [
        "!mv kaggle.json /root/.kaggle/"
      ]
    },
    {
      "cell_type": "code",
      "execution_count": 2,
      "metadata": {
        "id": "JA9mf93YiXyU"
      },
      "outputs": [],
      "source": [
        "!mkdir ~/.kaggle\n"
      ]
    },
    {
      "cell_type": "code",
      "execution_count": 3,
      "metadata": {
        "colab": {
          "base_uri": "https://localhost:8080/"
        },
        "id": "X8NL3aJEl9qp",
        "outputId": "5a9096e3-3471-4036-a307-71475f7ca2ed"
      },
      "outputs": [
        {
          "output_type": "stream",
          "name": "stdout",
          "text": [
            "Mounted at /content/drive\n"
          ]
        }
      ],
      "source": [
        "import json\n",
        "from google.colab import drive\n",
        "\n",
        "!touch ~/.kaggle/kaggle.json\n",
        "\n",
        "drive.mount('/content/drive', force_remount=True)\n",
        "with open(\"/content/drive/My Drive/kaggle.json\", 'r') as f:\n",
        "    api_token= json.load(f)\n",
        "\n",
        "with open('/root/.kaggle/kaggle.json', 'w') as file:\n",
        "    json.dump(api_token, file)\n",
        "\n",
        "!chmod 600 ~/.kaggle/kaggle.json\n"
      ]
    },
    {
      "cell_type": "code",
      "execution_count": 4,
      "metadata": {
        "colab": {
          "base_uri": "https://localhost:8080/"
        },
        "id": "4kCeFDQPmCVs",
        "outputId": "e41830dc-08b3-4148-bb94-728546943f82"
      },
      "outputs": [
        {
          "output_type": "stream",
          "name": "stdout",
          "text": [
            "Downloading analisis-predictivo-2023q1.zip to /content\n",
            "\r  0% 0.00/3.83M [00:00<?, ?B/s]\n",
            "\r100% 3.83M/3.83M [00:00<00:00, 231MB/s]\n"
          ]
        }
      ],
      "source": [
        "!kaggle competitions download -c analisis-predictivo-2023q1"
      ]
    },
    {
      "cell_type": "code",
      "execution_count": 5,
      "metadata": {
        "id": "QVjp-XhWog9c"
      },
      "outputs": [],
      "source": [
        "import zipfile\n",
        "import os\n",
        "\n",
        "os.listdir()\n",
        "\n",
        "for file in os.listdir():\n",
        "    if file.endswith('.zip'):\n",
        "      zip_ref = zipfile.ZipFile(file, 'r')\n",
        "      zip_ref.extractall()\n",
        "      zip_ref.close()"
      ]
    },
    {
      "cell_type": "code",
      "execution_count": 6,
      "metadata": {
        "id": "weKTlFuMg5ij"
      },
      "outputs": [],
      "source": [
        "import pandas as pd\n",
        "import matplotlib.pyplot as plt\n",
        "import seaborn as sns\n",
        "import numpy as np"
      ]
    },
    {
      "cell_type": "code",
      "execution_count": 7,
      "metadata": {
        "id": "8AH-IHNmpv83"
      },
      "outputs": [],
      "source": [
        "train = pd.read_csv('/content/base_train.csv')\n",
        "test = pd.read_csv('/content/base_val.csv')"
      ]
    },
    {
      "cell_type": "markdown",
      "source": [
        "### Vistazo general"
      ],
      "metadata": {
        "id": "COwHVKvs0kxD"
      }
    },
    {
      "cell_type": "code",
      "execution_count": null,
      "metadata": {
        "id": "uP0K8c_LzxZn"
      },
      "outputs": [],
      "source": [
        "print(train.columns)"
      ]
    },
    {
      "cell_type": "code",
      "execution_count": null,
      "metadata": {
        "id": "rrmabW5Ep5h3"
      },
      "outputs": [],
      "source": [
        "train.head()"
      ]
    },
    {
      "cell_type": "code",
      "source": [
        "data_types = train.dtypes.value_counts()\n",
        "print(data_types)"
      ],
      "metadata": {
        "colab": {
          "base_uri": "https://localhost:8080/"
        },
        "id": "KPUdZ1wSZPJ7",
        "outputId": "2655eb1d-cd00-46e9-8f0e-15e493a999e1"
      },
      "execution_count": null,
      "outputs": [
        {
          "output_type": "stream",
          "name": "stdout",
          "text": [
            "object     29\n",
            "int64      22\n",
            "float64    17\n",
            "dtype: int64\n"
          ]
        }
      ]
    },
    {
      "cell_type": "markdown",
      "source": [
        "### Tratamiento de nulos y outliers"
      ],
      "metadata": {
        "id": "G-KWzIMG0raK"
      }
    },
    {
      "cell_type": "code",
      "source": [
        "null_counts = train.isnull().sum()\n",
        "variables_con_nulos = null_counts[null_counts > 0]\n",
        "null_table = pd.DataFrame(variables_con_nulos, columns=['Cantidad de Valores Nulos'])\n",
        "print(null_table)"
      ],
      "metadata": {
        "id": "fGcqREvmcQWK"
      },
      "execution_count": null,
      "outputs": []
    },
    {
      "cell_type": "code",
      "source": [
        "train = train.drop(['neighbourhood_group_cleansed', 'calendar_updated'], axis=1)\n",
        "test = test.drop(['neighbourhood_group_cleansed', 'calendar_updated'], axis=1)"
      ],
      "metadata": {
        "id": "GXfotsDv5QWQ"
      },
      "execution_count": 36,
      "outputs": []
    },
    {
      "cell_type": "code",
      "source": [
        "numeric_columns = train.select_dtypes(include=['float64', 'int64'])\n",
        "fig, axes = plt.subplots(len(numeric_columns.columns), 1, figsize=(8, len(numeric_columns.columns) * 4))\n",
        "fig.tight_layout(pad=3.0)\n",
        "for i, column in enumerate(numeric_columns.columns):\n",
        "    ax = axes[i]\n",
        "    sns.boxplot(data=train, y=column, ax=ax)\n",
        "    ax.set_title(column)\n",
        "plt.show()"
      ],
      "metadata": {
        "id": "0K-7JYc00vrE"
      },
      "execution_count": null,
      "outputs": []
    },
    {
      "cell_type": "markdown",
      "source": [
        "### Correlacion entre variables y la target"
      ],
      "metadata": {
        "id": "B4JcjgCKB_AD"
      }
    },
    {
      "cell_type": "code",
      "source": [
        "import matplotlib.pyplot as plt\n",
        "\n",
        "# Calcular los coeficientes de correlación entre 'review_scores_rating' y el resto de variables\n",
        "correlation_scores = train.corr()['review_scores_rating'].drop('review_scores_rating')\n",
        "\n",
        "# Filtrar las variables con correlación mayor a 0.15\n",
        "high_corr_vars = correlation_scores[abs(correlation_scores) > 0.15]\n",
        "\n",
        "# Graficar la correlación en forma de barras\n",
        "plt.figure(figsize=(10, 6))\n",
        "high_corr_vars.plot(kind='bar')\n",
        "plt.xlabel('Variables')\n",
        "plt.ylabel('Coeficiente de correlación')\n",
        "plt.title('Correlación entre Review Scores Rating y otras variables')\n",
        "plt.xticks(rotation=45)\n",
        "plt.tight_layout()\n",
        "plt.show()\n"
      ],
      "metadata": {
        "id": "HIs_7S_O_PaX"
      },
      "execution_count": null,
      "outputs": []
    },
    {
      "cell_type": "code",
      "source": [
        "import seaborn as sns\n",
        "import matplotlib.pyplot as plt\n",
        "corr_matrix = train.corr()\n",
        "correlation_threshold = 0.15\n",
        "high_corr_vars = corr_matrix[abs(corr_matrix['review_scores_rating']) > correlation_threshold]['review_scores_rating'].index\n",
        "corr_submatrix = train[high_corr_vars].corr()\n",
        "plt.figure(figsize=(10, 8))\n",
        "sns.heatmap(corr_submatrix, annot=True, cmap='coolwarm', center=0)\n",
        "plt.title('Correlación entre Review scores rating y otras variables')\n",
        "plt.show()"
      ],
      "metadata": {
        "id": "Khme7FeI-C3x"
      },
      "execution_count": null,
      "outputs": []
    },
    {
      "cell_type": "markdown",
      "metadata": {
        "id": "S_s9rqCi0-dK"
      },
      "source": [
        "### Transformación de la base"
      ]
    },
    {
      "cell_type": "code",
      "execution_count": 37,
      "metadata": {
        "id": "-e29Dh5Gq_eq"
      },
      "outputs": [],
      "source": [
        "train['host_since_year'] = pd.to_datetime(train['host_since']).dt.year\n",
        "test['host_since_year'] = pd.to_datetime(test['host_since']).dt.year\n"
      ]
    },
    {
      "cell_type": "code",
      "execution_count": null,
      "metadata": {
        "id": "HXMQfKY3tvMR"
      },
      "outputs": [],
      "source": [
        "response_time_mapping = {\n",
        "    'within an hour': 1,\n",
        "    'within a few hours': 2,\n",
        "    'within a day': 3,\n",
        "    'a few days or more': 4\n",
        "    }\n",
        "train['host_response_time_b'] = train['host_response_time'].replace(response_time_mapping)\n",
        "test['host_response_time_b'] = test['host_response_time'].replace(response_time_mapping)"
      ]
    },
    {
      "cell_type": "code",
      "execution_count": 9,
      "metadata": {
        "id": "53043iUl3dBO"
      },
      "outputs": [],
      "source": [
        "t_f_mapping = {\n",
        "    't': 1, 'f': 0\n",
        "    }\n",
        "train['host_is_superhost_b'] = train['host_is_superhost'].replace(t_f_mapping)\n",
        "train['host_has_profile_pic_b'] = train['host_has_profile_pic'].replace(t_f_mapping)\n",
        "train['host_identity_verified_b'] = train['host_identity_verified'].replace(t_f_mapping)\n",
        "train['has_availability_b'] = train['has_availability'].replace(t_f_mapping)\n",
        "train['instant_bookable_b'] = train['instant_bookable'].replace(t_f_mapping)\n",
        "test['host_is_superhost_b'] = test['host_is_superhost'].replace(t_f_mapping)\n",
        "test['host_has_profile_pic_b'] = test['host_has_profile_pic'].replace(t_f_mapping)\n",
        "test['host_identity_verified_b'] = test['host_identity_verified'].replace(t_f_mapping)\n",
        "test['has_availability_b'] = test['has_availability'].replace(t_f_mapping)\n",
        "test['instant_bookable_b'] = test['instant_bookable'].replace(t_f_mapping)"
      ]
    },
    {
      "cell_type": "code",
      "execution_count": 41,
      "metadata": {
        "id": "rxAV3ti91Wbk"
      },
      "outputs": [],
      "source": [
        "import re\n",
        "train['bathrooms_text'] = train['bathrooms_text'].fillna('')\n",
        "test['bathrooms_text'] = test['bathrooms_text'].fillna('')\n",
        "def extract_bathrooms(text):\n",
        "    match = re.search(r'(\\d+(\\.\\d+)?)', text)\n",
        "    if match:\n",
        "        return float(match.group())\n",
        "    else:\n",
        "        return None\n",
        "train['bathrooms'] = train['bathrooms_text'].apply(extract_bathrooms)\n",
        "test['bathrooms'] = test['bathrooms_text'].apply(extract_bathrooms)\n"
      ]
    },
    {
      "cell_type": "code",
      "execution_count": 42,
      "metadata": {
        "id": "zbnlobetjSdw"
      },
      "outputs": [],
      "source": [
        "def filter_bathrooms(text):\n",
        "    patterns = ['shared baths?', 'shared bath', 'baths?', 'bath', 'private bath']\n",
        "    matches = re.findall('|'.join(patterns), text)\n",
        "    return ' '.join(matches)\n",
        "train['bathrooms_text'] = train['bathrooms_text'].apply(filter_bathrooms)\n",
        "test['bathrooms_text'] = test['bathrooms_text'].apply(filter_bathrooms)"
      ]
    },
    {
      "cell_type": "code",
      "source": [
        "train['room_type_num'] = train['room_type'].map({'Private room': 1, 'Entire home/apt': 2, 'Hotel room': 3, 'Shared room': 4})\n",
        "train['bathrooms_text_num'] = train['bathrooms_text'].map({'shared baths': 1, 'shared bath': 1, 'baths': 2, 'bath': 2, 'private bath': 3})\n",
        "\n",
        "test['room_type_num'] = test['room_type'].map({'Private room': 1, 'Entire home/apt': 2, 'Hotel room': 3, 'Shared room': 4})\n",
        "test['bathrooms_text_num'] = test['bathrooms_text'].map({'shared baths': 1, 'shared bath': 1, 'baths': 2, 'bath': 2, 'private bath': 3})"
      ],
      "metadata": {
        "id": "NQ3WCKNHGXWe"
      },
      "execution_count": null,
      "outputs": []
    },
    {
      "cell_type": "code",
      "source": [
        "train['source_b'] = train['source'].map({'city scrape': 1, 'previous scrape': 0})\n",
        "train['calendar_last_scraped_b'] = train['calendar_last_scraped'].map({'2022-12-05': 1, '2022-12-17': 0})\n",
        "\n",
        "test['source_b'] = test['source'].map({'city scrape': 1, 'previous scrape': 0})\n",
        "test['calendar_last_scraped_b'] = test['calendar_last_scraped'].map({'2022-12-05': 1, '2022-12-17': 0})"
      ],
      "metadata": {
        "id": "09WDXTFCG3Ho"
      },
      "execution_count": null,
      "outputs": []
    },
    {
      "cell_type": "code",
      "execution_count": 44,
      "metadata": {
        "id": "BBWlSVGTjYnI"
      },
      "outputs": [],
      "source": [
        "train['cant_amenities'] = train['amenities'].apply(lambda x: len(x.split(',')))\n",
        "test['cant_amenities'] = test['amenities'].apply(lambda x: len(x.split(',')))"
      ]
    },
    {
      "cell_type": "code",
      "execution_count": 45,
      "metadata": {
        "id": "aXsslq9O6y74"
      },
      "outputs": [],
      "source": [
        "from sklearn.preprocessing import LabelEncoder\n",
        "neighbourhood_encoder = LabelEncoder()\n",
        "train['neighbourhood_cleansed_encoded'] = neighbourhood_encoder.fit_transform(train['neighbourhood_cleansed'])\n",
        "test['neighbourhood_cleansed_encoded'] = neighbourhood_encoder.transform(test['neighbourhood_cleansed'])"
      ]
    },
    {
      "cell_type": "code",
      "execution_count": 46,
      "metadata": {
        "id": "caWvSJauqC6d"
      },
      "outputs": [],
      "source": [
        "from datetime import datetime\n",
        "import math\n",
        "train['antiguedad'] = (pd.to_datetime(train['last_review']) - pd.to_datetime(train['first_review'])).dt.days\n",
        "train['antiguedad'] = train['antiguedad'].apply(lambda x: math.trunc(x / 365))\n",
        "test['antiguedad'] = (pd.to_datetime(test['last_review']) - pd.to_datetime(test['first_review'])).dt.days\n",
        "test['antiguedad'] = test['antiguedad'].apply(lambda x: math.trunc(x / 365))"
      ]
    },
    {
      "cell_type": "code",
      "execution_count": 47,
      "metadata": {
        "colab": {
          "base_uri": "https://localhost:8080/"
        },
        "id": "6C6kXoVa1EZF",
        "outputId": "a4452aa6-821c-4f29-a993-255fd7b76a8f"
      },
      "outputs": [
        {
          "output_type": "stream",
          "name": "stderr",
          "text": [
            "<ipython-input-47-89fb38b8eadb>:1: FutureWarning: The default value of regex will change from True to False in a future version. In addition, single character regular expressions will *not* be treated as literal strings when regex=True.\n",
            "  train['price'] = train['price'].str.replace('$', '')\n",
            "<ipython-input-47-89fb38b8eadb>:4: FutureWarning: The default value of regex will change from True to False in a future version. In addition, single character regular expressions will *not* be treated as literal strings when regex=True.\n",
            "  test['price'] = test['price'].str.replace('$', '')\n"
          ]
        }
      ],
      "source": [
        "train['price'] = train['price'].str.replace('$', '')\n",
        "train['price'] = train['price'].str.replace(',', '')\n",
        "train['price'] = pd.to_numeric(train['price'])\n",
        "test['price'] = test['price'].str.replace('$', '')\n",
        "test['price'] = test['price'].str.replace(',', '')\n",
        "test['price'] = pd.to_numeric(test['price'])"
      ]
    },
    {
      "cell_type": "code",
      "execution_count": 48,
      "metadata": {
        "id": "Z2MpzvESEs3H"
      },
      "outputs": [],
      "source": [
        "train['host_acceptance_rate'] = train['host_acceptance_rate'].str.rstrip('%').astype(float) / 100\n",
        "train['host_response_rate'] = train['host_response_rate'].str.rstrip('%').astype(float) / 100\n",
        "test['host_response_rate'] = test['host_response_rate'].str.rstrip('%').astype(float) / 100\n",
        "test['host_acceptance_rate'] = test['host_acceptance_rate'].str.rstrip('%').astype(float) / 100"
      ]
    },
    {
      "cell_type": "code",
      "execution_count": 49,
      "metadata": {
        "id": "QND7OqEdo_AQ"
      },
      "outputs": [],
      "source": [
        "train['review_scores_total'] = (train['review_scores_accuracy'] + train['review_scores_cleanliness'] +\n",
        "                                 train['review_scores_checkin'] + train['review_scores_communication'] +\n",
        "                                 train['review_scores_location'] + train['review_scores_value'])\n",
        "test['review_scores_total'] = (test['review_scores_accuracy'] + test['review_scores_cleanliness'] +\n",
        "                                 test['review_scores_checkin'] + test['review_scores_communication'] +\n",
        "                                 test['review_scores_location'] + test['review_scores_value'])"
      ]
    },
    {
      "cell_type": "code",
      "execution_count": 50,
      "metadata": {
        "id": "m_kA6hMeS1f-"
      },
      "outputs": [],
      "source": [
        "train['host_listings_ratio'] = train['host_listings_count'] / train.groupby('neighbourhood_cleansed')['host_listings_count'].transform('sum')\n",
        "test['host_listings_ratio'] = test['host_listings_count'] / test.groupby('neighbourhood_cleansed')['host_listings_count'].transform('sum')"
      ]
    },
    {
      "cell_type": "code",
      "execution_count": 51,
      "metadata": {
        "id": "HM6Euqt219vq"
      },
      "outputs": [],
      "source": [
        "train['host_response_ratio'] = train['host_response_rate'] / train['host_listings_count']\n",
        "train['host_acceptance_ratio'] = train['host_acceptance_rate'] / train['host_listings_count']\n",
        "test['host_response_ratio'] = test['host_response_rate'] / test['host_listings_count']\n",
        "test['host_acceptance_ratio'] = test['host_acceptance_rate'] / test['host_listings_count']"
      ]
    },
    {
      "cell_type": "code",
      "execution_count": 52,
      "metadata": {
        "colab": {
          "base_uri": "https://localhost:8080/"
        },
        "id": "E0TjyoNn73rK",
        "outputId": "e2d290f2-9c00-440f-a772-ee3eeecb8234"
      },
      "outputs": [
        {
          "output_type": "stream",
          "name": "stderr",
          "text": [
            "/usr/local/lib/python3.10/dist-packages/pandas/core/arraylike.py:402: RuntimeWarning: divide by zero encountered in log\n",
            "  result = getattr(ufunc, method)(*inputs, **kwargs)\n"
          ]
        }
      ],
      "source": [
        "import numpy as np\n",
        "from sklearn.preprocessing import MinMaxScaler\n",
        "\n",
        "train['log_price'] = np.log(train['price'])\n",
        "test['log_price'] = np.log(test['price'])"
      ]
    },
    {
      "cell_type": "code",
      "execution_count": 53,
      "metadata": {
        "id": "WkBFkqpV-pIB"
      },
      "outputs": [],
      "source": [
        "train['minimum_maximum_nights_ratio'] = train['minimum_nights'] / train['maximum_nights']\n",
        "test['minimum_maximum_nights_ratio'] = test['minimum_nights'] / test['maximum_nights']"
      ]
    },
    {
      "cell_type": "code",
      "execution_count": 54,
      "metadata": {
        "id": "cDnc-5bbBAbD"
      },
      "outputs": [],
      "source": [
        "train['minimum_maximum_nights_diff'] = train['maximum_nights'] - train['minimum_nights']\n",
        "test['minimum_maximum_nights_diff'] = test['maximum_nights'] - test['minimum_nights']"
      ]
    },
    {
      "cell_type": "code",
      "execution_count": 55,
      "metadata": {
        "id": "C2TCTg_gqYUr"
      },
      "outputs": [],
      "source": [
        "from textblob import TextBlob\n",
        "train['description_sentiment'] = train['description'].apply(lambda x: TextBlob(str(x)).sentiment.polarity)\n",
        "test['description_sentiment'] = test['description'].apply(lambda x: TextBlob(str(x)).sentiment.polarity)"
      ]
    },
    {
      "cell_type": "code",
      "execution_count": null,
      "metadata": {
        "id": "srfwc3Tj064a"
      },
      "outputs": [],
      "source": [
        "print(train.columns)"
      ]
    },
    {
      "cell_type": "markdown",
      "metadata": {
        "id": "yGa8nbpEIeVS"
      },
      "source": [
        "### Tratar con los missings"
      ]
    },
    {
      "cell_type": "code",
      "execution_count": 28,
      "metadata": {
        "id": "12gLkaGoiw5M"
      },
      "outputs": [],
      "source": [
        "from sklearn.impute import KNNImputer\n",
        "train=train.select_dtypes().columns.to_list()\n",
        "faltantes = train.isnull().sum()\n",
        "columnas_faltantes = faltantes[faltantes > 0].index\n",
        "imputador = KNNImputer(n_neighbors=5)\n",
        "train[columnas_faltantes] = imputador.fit_transform(train[columnas_faltantes])"
      ]
    },
    {
      "cell_type": "code",
      "execution_count": 58,
      "metadata": {
        "id": "iPhYDUrYJJmv"
      },
      "outputs": [],
      "source": [
        "test=test.select_dtypes().columns.to_list()\n",
        "faltantes = test.isnull().sum()\n",
        "columnas_faltantes = faltantes[faltantes > 0].index\n",
        "imputador = KNNImputer(n_neighbors=5)\n",
        "test[columnas_faltantes] = imputador.fit_transform(test[columnas_faltantes])"
      ]
    },
    {
      "cell_type": "markdown",
      "metadata": {
        "id": "f6cjXlp4v6h4"
      },
      "source": [
        "# Analisis exploratorio"
      ]
    },
    {
      "cell_type": "code",
      "execution_count": null,
      "metadata": {
        "id": "QcW2J3vhphg1"
      },
      "outputs": [],
      "source": [
        "plt.figure(figsize=(10, 6))\n",
        "sns.countplot(data=train, x='room_type', order=train['room_type'].value_counts().index)\n",
        "plt.xlabel('Room Type')\n",
        "plt.ylabel('Conteo')\n",
        "plt.title('Distribución de Room Type')\n",
        "plt.xticks(rotation=45)\n",
        "plt.show()"
      ]
    },
    {
      "cell_type": "code",
      "execution_count": null,
      "metadata": {
        "id": "u-4YbQUe-vEW"
      },
      "outputs": [],
      "source": [
        "cantidad_alojamientos = train['neighbourhood_cleansed'].value_counts()\n",
        "plt.figure(figsize=(12, 6))\n",
        "cantidad_alojamientos.plot(kind='bar')\n",
        "plt.xlabel('Barrio')\n",
        "plt.ylabel('Cantidad de Alojamientos')\n",
        "plt.title('Cantidad de Alojamientos por Barrio')\n",
        "plt.xticks(rotation=90)\n",
        "plt.show()"
      ]
    },
    {
      "cell_type": "code",
      "execution_count": null,
      "metadata": {
        "id": "eBTamJkdAH7m"
      },
      "outputs": [],
      "source": [
        "import folium\n",
        "from geopy.geocoders import Nominatim\n",
        "geolocator = Nominatim(user_agent=\"my_app\")\n",
        "alojamientos_por_barrio = train['neighbourhood_cleansed'].value_counts().to_dict()\n",
        "barrios = train['neighbourhood_cleansed'].unique()\n",
        "barrios_coords = {}\n",
        "for barrio in barrios:\n",
        "    location = geolocator.geocode(barrio + \", Amsterdam\")\n",
        "    if location:\n",
        "        barrios_coords[barrio] = (location.latitude, location.longitude)\n",
        "mapa_amsterdam = folium.Map(location=[52.370216, 4.895168], zoom_start=12)\n",
        "for barrio, coords in barrios_coords.items():\n",
        "    alojamientos = alojamientos_por_barrio.get(barrio, 0)\n",
        "    popup_text = f\"{barrio}<br>Alojamientos: {alojamientos}\"\n",
        "    folium.Marker(location=coords, popup=popup_text).add_to(mapa_amsterdam)\n",
        "mapa_amsterdam"
      ]
    },
    {
      "cell_type": "markdown",
      "metadata": {
        "id": "EGvKx3EQqtUW"
      },
      "source": [
        "### Analisis de la variable a predecir: review_scores_rating"
      ]
    },
    {
      "cell_type": "code",
      "execution_count": 12,
      "metadata": {
        "id": "euHsirI-fHQa",
        "colab": {
          "base_uri": "https://localhost:8080/"
        },
        "outputId": "f9bd9da9-b899-4b7d-b7ce-2c3e62c9f015"
      },
      "outputs": [
        {
          "output_type": "stream",
          "name": "stdout",
          "text": [
            "count    4928.000000\n",
            "mean        4.812330\n",
            "std         0.264727\n",
            "min         0.000000\n",
            "25%         4.750000\n",
            "50%         4.880000\n",
            "75%         4.990000\n",
            "max         5.000000\n",
            "Name: review_scores_rating, dtype: float64\n"
          ]
        }
      ],
      "source": [
        "print(train['review_scores_rating'].describe())"
      ]
    },
    {
      "cell_type": "code",
      "execution_count": 22,
      "metadata": {
        "id": "ykzcDR-SlUCV",
        "colab": {
          "base_uri": "https://localhost:8080/",
          "height": 565
        },
        "outputId": "d67cfb3a-2575-44ef-aec6-ee6934484890"
      },
      "outputs": [
        {
          "output_type": "display_data",
          "data": {
            "text/plain": [
              "<Figure size 800x600 with 1 Axes>"
            ],
            "image/png": "[encoded data removed]"
          },
          "metadata": {}
        }
      ],
      "source": [
        "plt.figure(figsize=(8, 6))\n",
        "sns.histplot(train['review_scores_rating'], bins=20, kde=True)\n",
        "plt.xlabel('Review Scores Rating')\n",
        "plt.ylabel('Frecuencia')\n",
        "plt.title('Distribución de Review Scores Rating')\n",
        "plt.xlim(4, train['review_scores_rating'].max())\n",
        "plt.show()"
      ]
    },
    {
      "cell_type": "markdown",
      "metadata": {
        "id": "Kc1dPviQ-20I"
      },
      "source": [
        "# Analisis predictivo"
      ]
    },
    {
      "cell_type": "code",
      "execution_count": 59,
      "metadata": {
        "id": "3UG0ET0fBFZG"
      },
      "outputs": [],
      "source": [
        "from sklearn.linear_model import LinearRegression\n",
        "from sklearn.svm import SVR\n",
        "from sklearn.linear_model import LogisticRegression\n",
        "from sklearn.metrics import accuracy_score\n",
        "from sklearn.ensemble import RandomForestRegressor\n",
        "from sklearn.model_selection import GridSearchCV\n",
        "from sklearn.metrics import r2_score\n",
        "from sklearn.model_selection import train_test_split\n",
        "import xgboost as xgb\n",
        "from sklearn.neighbors import KNeighborsRegressor\n",
        "from sklearn.linear_model import Ridge\n",
        "from sklearn.ensemble import AdaBoostRegressor\n",
        "from sklearn.model_selection import cross_val_score"
      ]
    },
    {
      "cell_type": "code",
      "execution_count": 60,
      "metadata": {
        "id": "Mueqgv8I62dy"
      },
      "outputs": [],
      "source": [
        "columns_num = train.select_dtypes().columns.to_list()\n",
        "columns_num.remove('review_scores_rating')\n",
        "\n",
        "X = train[columns_num] \n",
        "y = train['review_scores_rating'] \n",
        "X_train, X_test, y_train, y_test = train_test_split(X, y, test_size=0.20, random_state=42)"
      ]
    },
    {
      "cell_type": "code",
      "execution_count": 32,
      "metadata": {
        "id": "ZckHiONZpds-"
      },
      "outputs": [],
      "source": [
        "Z = test\n"
      ]
    },
    {
      "cell_type": "code",
      "execution_count": null,
      "metadata": {
        "id": "9IS5uc23pSRh"
      },
      "outputs": [],
      "source": [
        "print(X.columns)"
      ]
    },
    {
      "cell_type": "markdown",
      "metadata": {
        "id": "urDcAb9aiETC"
      },
      "source": [
        "# Random Forest"
      ]
    },
    {
      "cell_type": "code",
      "execution_count": 61,
      "metadata": {
        "colab": {
          "base_uri": "https://localhost:8080/"
        },
        "id": "kanzs4J1uSEH",
        "outputId": "0df278ed-7f92-4257-a5cd-7829167f6ff4"
      },
      "outputs": [
        {
          "output_type": "stream",
          "name": "stdout",
          "text": [
            "Precisión de Bosque Aleatorio: 0.8128835423672653\n"
          ]
        }
      ],
      "source": [
        "random_forest_reg = RandomForestRegressor()\n",
        "random_forest_reg.fit(X_train, y_train)\n",
        "random_forest_preds = random_forest_reg.predict(X_test)\n",
        "random_forest_accuracy = random_forest_reg.score(X_test, y_test)\n",
        "print(\"Precisión de Bosque Aleatorio:\", random_forest_accuracy)"
      ]
    },
    {
      "cell_type": "code",
      "execution_count": null,
      "metadata": {
        "id": "EFk_wFxbhZjQ"
      },
      "outputs": [],
      "source": [
        "scores = cross_val_score(random_forest_reg, X, y, cv=20, scoring='r2')\n",
        "print(\"Puntajes de validación cruzada:\", scores)\n",
        "print(\"Puntaje promedio de validación cruzada:\", scores.mean())"
      ]
    },
    {
      "cell_type": "code",
      "execution_count": 62,
      "metadata": {
        "id": "UQ7zconDiLQ-",
        "colab": {
          "base_uri": "https://localhost:8080/"
        },
        "outputId": "810d08f7-93ef-4c70-c1b2-06b3e762ba93"
      },
      "outputs": [
        {
          "output_type": "stream",
          "name": "stdout",
          "text": [
            "Puntajes de validación cruzada: [0.76238567 0.74664083 0.75283926 0.7820809  0.52877466]\n",
            "Puntuación promedio de la validación cruzada: 0.714544264652457\n",
            "{'max_depth': None, 'min_samples_split': 10, 'n_estimators': 100}\n"
          ]
        }
      ],
      "source": [
        "param_grid  = {\n",
        "    'n_estimators': [100, 200, 300],\n",
        "    'max_depth': [None, 5, 10],\n",
        "    'min_samples_split': [2, 5, 10]\n",
        "}\n",
        "rf_model = RandomForestRegressor(random_state=42)\n",
        "grid_search = GridSearchCV(rf_model, param_grid, cv=15)\n",
        "grid_search.fit(X_train, y_train)\n",
        "best_params = grid_search.best_params_\n",
        "rf_model = RandomForestRegressor(n_estimators=500, random_state=42)\n",
        "rf_model.set_params(max_depth=10)\n",
        "cv_scores = cross_val_score(rf_model, X_train, y_train, cv=5)\n",
        "mean_cv_score = cv_scores.mean()\n",
        "print(\"Puntajes de validación cruzada:\", cv_scores)\n",
        "print(\"Puntuación promedio de la validación cruzada:\", mean_cv_score)\n",
        "print(best_params)"
      ]
    },
    {
      "cell_type": "code",
      "execution_count": null,
      "metadata": {
        "id": "jA36tm03v7tw"
      },
      "outputs": [],
      "source": [
        "parameters = {\n",
        "    'n_estimators': [300],\n",
        "    'max_depth': [10],  # Corregir aquí, envolver en una lista\n",
        "    'min_samples_split': [10]\n",
        "}\n",
        "rf_model = RandomForestRegressor(random_state=42)\n",
        "grid_search = GridSearchCV(rf_model, parameters, cv=5)\n",
        "grid_search.fit(X, y)\n",
        "best_model = grid_search.best_estimator_\n",
        "best_params = grid_search.best_params_\n",
        "random_forest_predicciones = best_model.predict(Z)\n"
      ]
    },
    {
      "cell_type": "code",
      "execution_count": null,
      "metadata": {
        "id": "X-P5OzQslxJU"
      },
      "outputs": [],
      "source": [
        "random_forest_reg = RandomForestRegressor()\n",
        "random_forest_reg.fit(X, y)\n",
        "random_forest_preds = random_forest_reg.predict(Z)"
      ]
    },
    {
      "cell_type": "code",
      "execution_count": null,
      "metadata": {
        "colab": {
          "base_uri": "https://localhost:8080/",
          "height": 17
        },
        "id": "KZDdFv3DfxZS",
        "outputId": "981218b9-f20a-4c73-d58d-3571d3c9491b"
      },
      "outputs": [
        {
          "data": {
            "application/javascript": [
              "\n",
              "    async function download(id, filename, size) {\n",
              "      if (!google.colab.kernel.accessAllowed) {\n",
              "        return;\n",
              "      }\n",
              "      const div = document.createElement('div');\n",
              "      const label = document.createElement('label');\n",
              "      label.textContent = `Downloading \"${filename}\": `;\n",
              "      div.appendChild(label);\n",
              "      const progress = document.createElement('progress');\n",
              "      progress.max = size;\n",
              "      div.appendChild(progress);\n",
              "      document.body.appendChild(div);\n",
              "\n",
              "      const buffers = [];\n",
              "      let downloaded = 0;\n",
              "\n",
              "      const channel = await google.colab.kernel.comms.open(id);\n",
              "      // Send a message to notify the kernel that we're ready.\n",
              "      channel.send({})\n",
              "\n",
              "      for await (const message of channel.messages) {\n",
              "        // Send a message to notify the kernel that we're ready.\n",
              "        channel.send({})\n",
              "        if (message.buffers) {\n",
              "          for (const buffer of message.buffers) {\n",
              "            buffers.push(buffer);\n",
              "            downloaded += buffer.byteLength;\n",
              "            progress.value = downloaded;\n",
              "          }\n",
              "        }\n",
              "      }\n",
              "      const blob = new Blob(buffers, {type: 'application/binary'});\n",
              "      const a = document.createElement('a');\n",
              "      a.href = window.URL.createObjectURL(blob);\n",
              "      a.download = filename;\n",
              "      div.appendChild(a);\n",
              "      a.click();\n",
              "      div.remove();\n",
              "    }\n",
              "  "
            ],
            "text/plain": [
              "<IPython.core.display.Javascript object>"
            ]
          },
          "metadata": {},
          "output_type": "display_data"
        },
        {
          "data": {
            "application/javascript": [
              "download(\"download_4e9a63c0-de6c-44fb-9b83-50a6533dc456\", \"RFsubmission.csv\", 37580)"
            ],
            "text/plain": [
              "<IPython.core.display.Javascript object>"
            ]
          },
          "metadata": {},
          "output_type": "display_data"
        }
      ],
      "source": [
        "submission_df = pd.DataFrame({'id': Z['id'], 'review_scores_rating': random_forest_preds})\n",
        "submission_df.to_csv('RFsubmission.csv', index=False)\n",
        "from google.colab import files\n",
        "files.download('RFsubmission.csv')"
      ]
    },
    {
      "cell_type": "markdown",
      "metadata": {
        "id": "QXvGV-qDiBVe"
      },
      "source": [
        "# XGBoost"
      ]
    },
    {
      "cell_type": "code",
      "execution_count": 55,
      "metadata": {
        "colab": {
          "base_uri": "https://localhost:8080/"
        },
        "id": "S37IVk2jHgcS",
        "outputId": "e8e13a81-bac8-4525-e3e9-fc3e574c3fc1"
      },
      "outputs": [
        {
          "output_type": "stream",
          "name": "stdout",
          "text": [
            "Puntuación R²: 0.7958281885401487\n"
          ]
        }
      ],
      "source": [
        "params = {\n",
        "    'learning_rate': 0.1,\n",
        "    'n_estimators': 100,\n",
        "    'max_depth': 4,\n",
        "    'subsample': 0.8,\n",
        "    'colsample_bytree': 0.8,\n",
        "    'reg_alpha': 0.1,\n",
        "    'reg_lambda': 0.1\n",
        "}\n",
        "model = xgb.XGBRegressor(**params)\n",
        "best_model=model.fit(X_train, y_train)\n",
        "y_pred = best_model.predict(X_test)\n",
        "r2 = r2_score(y_test, y_pred)\n",
        "print(\"Puntuación R²:\", r2)"
      ]
    },
    {
      "cell_type": "code",
      "execution_count": 56,
      "metadata": {
        "colab": {
          "base_uri": "https://localhost:8080/"
        },
        "id": "VXF2MRNrzJcQ",
        "outputId": "ef0ecdcd-dab0-4196-e715-7488fc1ce797"
      },
      "outputs": [
        {
          "output_type": "stream",
          "name": "stdout",
          "text": [
            "Puntajes de validación cruzada: [0.78971143 0.76931554 0.6581036  0.730894   0.77296159]\n",
            "Score: 0.7441972329749644\n",
            "Desviación estándar: 0.04715707662280437\n"
          ]
        }
      ],
      "source": [
        "cv_scores = cross_val_score(model, X_train, y_train, cv=5, scoring='r2')\n",
        "mean_score = np.mean(cv_scores)\n",
        "std_score = np.std(cv_scores)\n",
        "print(\"Puntajes de validación cruzada:\", cv_scores)\n",
        "print(\"Score:\", mean_score)\n",
        "print(\"Desviación estándar:\", std_score)"
      ]
    },
    {
      "cell_type": "code",
      "execution_count": null,
      "metadata": {
        "id": "6MkwL9UffDOz"
      },
      "outputs": [],
      "source": [
        "params = {\n",
        "    'learning_rate': 0.1,\n",
        "    'n_estimators': 100,\n",
        "    'max_depth': 4,\n",
        "    'subsample': 0.8,\n",
        "    'colsample_bytree': 0.8,\n",
        "    'reg_alpha': 0.1,\n",
        "    'reg_lambda': 0.1\n",
        "}\n",
        "model = xgb.XGBRegressor(**params)\n",
        "XGBmodel=model.fit(X, y)\n",
        "XGBoost_Predicciones = XGBmodel.predict(Z)"
      ]
    },
    {
      "cell_type": "code",
      "execution_count": null,
      "metadata": {
        "id": "NJZfsEZbfobe"
      },
      "outputs": [],
      "source": [
        "submission_df = pd.DataFrame({'id': id['id'], 'review_scores_rating': XGBoost_Predicciones})"
      ]
    },
    {
      "cell_type": "code",
      "execution_count": null,
      "metadata": {
        "id": "XfV2up2eO-RH"
      },
      "outputs": [],
      "source": [
        "submission_df.to_csv('XGBsubmission.csv', index=False)\n",
        "from google.colab import files\n",
        "files.download('XGBsubmission.csv')"
      ]
    },
    {
      "cell_type": "markdown",
      "metadata": {
        "id": "IJUprtT8IwBO"
      },
      "source": [
        "### Regresión Ridge"
      ]
    },
    {
      "cell_type": "code",
      "execution_count": null,
      "metadata": {
        "id": "_6SLit_qHqKh"
      },
      "outputs": [],
      "source": [
        "alpha_values = [0.1, 1.0, 10.0]\n",
        "ridge_reg = Ridge()\n",
        "param_grid = {'alpha': alpha_values}\n",
        "grid_search = GridSearchCV(ridge_reg, param_grid, cv=5)\n",
        "grid_search.fit(X_train, y_train)\n",
        "best_ridge_reg = grid_search.best_estimator_\n",
        "y_pred = best_ridge_reg.predict(X_test)\n",
        "r2 = r2_score(y_test, y_pred)\n",
        "print(\"Puntuación R²: \", r2)\n"
      ]
    },
    {
      "cell_type": "code",
      "execution_count": null,
      "metadata": {
        "id": "hQlTFkxdIWeI"
      },
      "outputs": [],
      "source": [
        "alpha_values = [0.1, 1.0, 10.0]\n",
        "ridge_reg = Ridge()\n",
        "param_grid = {'alpha': alpha_values}\n",
        "grid_search = GridSearchCV(ridge_reg, param_grid, cv=5)\n",
        "grid_search.fit(X, y)\n",
        "best_ridge_reg = grid_search.best_estimator_\n",
        "RegresionRidge_Predicciones = best_ridge_reg.predict(Z)"
      ]
    },
    {
      "cell_type": "code",
      "execution_count": null,
      "metadata": {
        "id": "jezInAiEIS3c"
      },
      "outputs": [],
      "source": [
        "submission_df = pd.DataFrame({'id': Z['id'], 'review_scores_rating': RegresionRidge_Predicciones})\n",
        "submission_df.to_csv('RegRidgesubmission.csv', index=False)\n",
        "files.download('RegRidgesubmission.csv')"
      ]
    }
  ],
  "metadata": {
    "colab": {
      "provenance": []
    },
    "kernelspec": {
      "display_name": "Python 3",
      "name": "python3"
    },
    "language_info": {
      "name": "python"
    }
  },
  "nbformat": 4,
  "nbformat_minor": 0
}